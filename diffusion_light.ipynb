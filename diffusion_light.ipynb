{
 "cells": [
  {
   "cell_type": "code",
   "execution_count": 1,
   "metadata": {},
   "outputs": [
    {
     "name": "stderr",
     "output_type": "stream",
     "text": [
      "/home/coder/work/DiffusionLight/.venv/lib/python3.10/site-packages/tqdm/auto.py:21: TqdmWarning: IProgress not found. Please update jupyter and ipywidgets. See https://ipywidgets.readthedocs.io/en/stable/user_install.html\n",
      "  from .autonotebook import tqdm as notebook_tqdm\n"
     ]
    }
   ],
   "source": [
    "import torch\n",
    "import argparse\n",
    "import numpy as np\n",
    "import torch.distributed as dist\n",
    "import os\n",
    "from PIL import Image\n",
    "from tqdm.auto import tqdm\n",
    "import json\n",
    "from dataclasses import dataclass\n",
    "\n",
    "\n",
    "from relighting.inpainter import BallInpainter\n",
    "\n",
    "from relighting.mask_utils import MaskGenerator\n",
    "from relighting.ball_processor import (\n",
    "    get_ideal_normal_ball,\n",
    "    crop_ball\n",
    ")\n",
    "from relighting.dataset import GeneralLoader\n",
    "from relighting.utils import name2hash\n",
    "from relighting.environment_map_projector import EnvironmentMapProjector\n",
    "from relighting.environment_map_projector import EnvironmentMapProjector\n",
    "from relighting.exposure_bracketer import ExposureBracketer\n",
    "from relighting.chrome_ball_generator import ChromeBallGenerator\n",
    "import relighting.dist_utils as dist_util\n",
    "import time\n"
   ]
  },
  {
   "cell_type": "code",
   "execution_count": 2,
   "metadata": {},
   "outputs": [
    {
     "name": "stderr",
     "output_type": "stream",
     "text": [
      "/home/coder/work/DiffusionLight/.venv/lib/python3.10/site-packages/huggingface_hub/file_download.py:1142: FutureWarning: `resume_download` is deprecated and will be removed in version 1.0.0. Downloads always resume when possible. If you want to force a new download, use `force_download=True`.\n",
      "  warnings.warn(\n",
      "Loading pipeline components...: 100%|██████████| 7/7 [00:01<00:00,  5.92it/s]\n"
     ]
    },
    {
     "name": "stdout",
     "output_type": "stream",
     "text": [
      "Disabled watermasking\n",
      "using lora path models/ThisIsTheFinal-lora-hdr-continuous-largeT@900/0_-5/checkpoint-2500\n",
      "using lora scale 0.75\n",
      "compiling unet model\n",
      "Model compilation time:  0.004719972610473633\n",
      "Loaded model!\n"
     ]
    }
   ],
   "source": [
    "chromeBallGenerator = ChromeBallGenerator()\n",
    "chromeBallGenerator.load_model()"
   ]
  },
  {
   "cell_type": "code",
   "execution_count": 4,
   "metadata": {},
   "outputs": [
    {
     "name": "stdout",
     "output_type": "stream",
     "text": [
      "interpolate embedding...\n",
      "EV :  [0.0, -5.0]\n",
      "EV :  [-0.0, 1.0]\n"
     ]
    },
    {
     "name": "stderr",
     "output_type": "stream",
     "text": [
      "/home/coder/work/DiffusionLight/.venv/lib/python3.10/site-packages/torch/functional.py:504: UserWarning: torch.meshgrid: in an upcoming release, it will be required to pass the indexing argument. (Triggered internally at ../aten/src/ATen/native/TensorShape.cpp:3483.)\n",
      "  return _VF.meshgrid(tensors, **kwargs)  # type: ignore[attr-defined]\n",
      "/home/coder/work/DiffusionLight/.venv/lib/python3.10/site-packages/huggingface_hub/file_download.py:1142: FutureWarning: `resume_download` is deprecated and will be removed in version 1.0.0. Downloads always resume when possible. If you want to force a new download, use `force_download=True`.\n",
      "  warnings.warn(\n"
     ]
    },
    {
     "name": "stdout",
     "output_type": "stream",
     "text": [
      "Ran model!\n",
      "Ran model!\n"
     ]
    }
   ],
   "source": [
    "environmentMapProjector = EnvironmentMapProjector()\n",
    "image = Image.open(\"example/bed.png\")\n",
    "cropped_spheres = chromeBallGenerator.generate_spheres(image, 30)\n",
    "env_maps = {}\n",
    "for ev, im in cropped_spheres.items():\n",
    "    im.save(f\"output/{ev}.png\")\n",
    "    env_maps[ev] = environmentMapProjector(im) / 255\n",
    "    Image.fromarray((env_maps[ev] * 255).astype(np.uint8)).save(f\"output/bed_ev-{int(ev*10)}_map.png\")"
   ]
  },
  {
   "cell_type": "code",
   "execution_count": 25,
   "metadata": {},
   "outputs": [
    {
     "data": {
      "text/plain": [
       "True"
      ]
     },
     "execution_count": 25,
     "metadata": {},
     "output_type": "execute_result"
    }
   ],
   "source": [
    "import importlib\n",
    "import relighting\n",
    "import relighting.exposure_bracketer\n",
    "import os\n",
    "import cv2\n",
    "\n",
    "import relighting.exposure_bracketer\n",
    "os.environ[\"OPENCV_IO_ENABLE_OPENEXR\"]=\"1\"\n",
    "importlib.reload(relighting.exposure_bracketer)\n",
    "\n",
    "exposureBracketer = relighting.exposure_bracketer.ExposureBracketer()\n",
    "hdr = exposureBracketer(env_maps)\n",
    "cv2.imwrite(\"output/res.exr\", hdr.astype(np.float32))"
   ]
  }
 ],
 "metadata": {
  "kernelspec": {
   "display_name": ".venv",
   "language": "python",
   "name": "python3"
  },
  "language_info": {
   "codemirror_mode": {
    "name": "ipython",
    "version": 3
   },
   "file_extension": ".py",
   "mimetype": "text/x-python",
   "name": "python",
   "nbconvert_exporter": "python",
   "pygments_lexer": "ipython3",
   "version": "3.10.12"
  }
 },
 "nbformat": 4,
 "nbformat_minor": 2
}
